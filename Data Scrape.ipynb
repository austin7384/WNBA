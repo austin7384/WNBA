{
 "cells": [
  {
   "cell_type": "code",
   "execution_count": 1,
   "id": "1e21102c-d5a6-4688-9149-ab4a716ae9ba",
   "metadata": {},
   "outputs": [],
   "source": [
    "import numpy as np"
   ]
  },
  {
   "cell_type": "code",
   "execution_count": 3,
   "id": "2859988f-8234-4e24-8610-8a382887de44",
   "metadata": {},
   "outputs": [],
   "source": [
    "gameID2010 = np.arange(1021000001, 1021000205, 1)\n",
    "gameID2011 = np.arange(1021100001, 1021100205, 1)\n",
    "gameID2012 = np.arange(1021200001, 1021200205, 1)\n",
    "gameID2013 = np.arange(1021300001, 1021300205, 1)\n",
    "gameID2014 = np.arange(1021400001, 1021400205, 1)\n",
    "gameID2015 = np.arange(1021500001, 1021500205, 1)\n",
    "gameID2016 = np.arange(1021600001, 1021600205, 1)\n",
    "gameID2017 = np.arange(1021700001, 1021700205, 1)\n",
    "gameID2018 = np.arange(1021800001, 1021800205, 1)\n",
    "gameID2019 = np.arange(1021900001, 1021900205, 1)\n",
    "gameID2020 = np.arange(1022001001, 1022001133, 1)\n",
    "gameID2021 = np.arange(1022100001, 1022100192, 1)\n",
    "gameID2022 = np.arange(1022200001, 1022200217, 1)\n",
    "gameID2023 = np.arange(1022300001, 1022300241, 1)\n",
    "gameID2024 = np.arange(1022400001, 1022400241, 1)"
   ]
  },
  {
   "cell_type": "code",
   "execution_count": 5,
   "id": "7dbedbfe-6f89-4797-84ea-422288e362bf",
   "metadata": {},
   "outputs": [
    {
     "name": "stdout",
     "output_type": "stream",
     "text": [
      "Error fetching data for game 1021600001: 403 Client Error: Forbidden for url: https://data.wnba.com/data/10s/v2015/json/mobile_teams/wnba/2016/scores/pbp/1021600001_full_pbp.json\n",
      "Error fetching data for game 1021600002: 403 Client Error: Forbidden for url: https://data.wnba.com/data/10s/v2015/json/mobile_teams/wnba/2016/scores/pbp/1021600002_full_pbp.json\n",
      "Error fetching data for game 1021600003: 403 Client Error: Forbidden for url: https://data.wnba.com/data/10s/v2015/json/mobile_teams/wnba/2016/scores/pbp/1021600003_full_pbp.json\n"
     ]
    },
    {
     "ename": "KeyboardInterrupt",
     "evalue": "",
     "output_type": "error",
     "traceback": [
      "\u001b[0;31m---------------------------------------------------------------------------\u001b[0m",
      "\u001b[0;31mKeyboardInterrupt\u001b[0m                         Traceback (most recent call last)",
      "Cell \u001b[0;32mIn[5], line 45\u001b[0m\n\u001b[1;32m     43\u001b[0m \u001b[38;5;28;01mexcept\u001b[39;00m requests\u001b[38;5;241m.\u001b[39mexceptions\u001b[38;5;241m.\u001b[39mRequestException \u001b[38;5;28;01mas\u001b[39;00m e:\n\u001b[1;32m     44\u001b[0m     \u001b[38;5;28mprint\u001b[39m(\u001b[38;5;124mf\u001b[39m\u001b[38;5;124m\"\u001b[39m\u001b[38;5;124mError fetching data for game \u001b[39m\u001b[38;5;132;01m{\u001b[39;00mgame_id\u001b[38;5;132;01m}\u001b[39;00m\u001b[38;5;124m: \u001b[39m\u001b[38;5;132;01m{\u001b[39;00me\u001b[38;5;132;01m}\u001b[39;00m\u001b[38;5;124m\"\u001b[39m)\n\u001b[0;32m---> 45\u001b[0m time\u001b[38;5;241m.\u001b[39msleep(\u001b[38;5;241m2\u001b[39m)\n",
      "\u001b[0;31mKeyboardInterrupt\u001b[0m: "
     ]
    }
   ],
   "source": [
    "import requests\n",
    "import pandas as pd\n",
    "\n",
    "import time\n",
    "\n",
    "for game_id in gameID2016:\n",
    "    try:\n",
    "        url = f\"https://data.wnba.com/data/10s/v2015/json/mobile_teams/wnba/2016/scores/pbp/{game_id}_full_pbp.json\"\n",
    "        response = requests.get(url)\n",
    "        response.raise_for_status()  # Raise an error for bad status codes\n",
    "        data = response.json()\n",
    "        periods = data['g']['pd']\n",
    "        plays = []\n",
    "        for period in periods:\n",
    "            period_number = period['p']\n",
    "            for play in period['pla']:\n",
    "                play['period'] = period_number\n",
    "                plays.append(play)\n",
    "                \n",
    "        df = pd.DataFrame(plays)\n",
    "        # Select relevant columns\n",
    "        columns = ['cl', 'de', 'locX', 'locY', 'etype','opid', 'pid', 'epid', 'tid', 'hs', 'vs', 'period']\n",
    "        df = df[columns]\n",
    "\n",
    "        # Rename columns for clarity\n",
    "        df.rename(columns={\n",
    "            'cl': 'game_clock',\n",
    "            'de': 'description',\n",
    "            'locX': 'location_x',\n",
    "            'locY': 'location_y',\n",
    "            'etype': 'event_type',\n",
    "            'opid': 'opp_player_id',\n",
    "            'pid': 'player_id',\n",
    "            'epid': 'sec_player_id',\n",
    "            'tid': 'team_id',\n",
    "            'hs': 'home_score',\n",
    "            'vs': 'away_score',\n",
    "            'period': 'period'\n",
    "        }, inplace=True)\n",
    "        \n",
    "        df.to_csv(f\"wnba_playbyplay_{game_id}.csv\", index=False)\n",
    "        print(f\"Saved data for game {game_id}\")\n",
    "    except requests.exceptions.RequestException as e:\n",
    "        print(f\"Error fetching data for game {game_id}: {e}\")\n",
    "    time.sleep(2)  # Add a 2-second delay between requests"
   ]
  },
  {
   "cell_type": "code",
   "execution_count": null,
   "id": "87455255-fd61-43cc-ab9d-4391d0a540fa",
   "metadata": {},
   "outputs": [],
   "source": []
  }
 ],
 "metadata": {
  "kernelspec": {
   "display_name": "Python 3 (ipykernel)",
   "language": "python",
   "name": "python3"
  },
  "language_info": {
   "codemirror_mode": {
    "name": "ipython",
    "version": 3
   },
   "file_extension": ".py",
   "mimetype": "text/x-python",
   "name": "python",
   "nbconvert_exporter": "python",
   "pygments_lexer": "ipython3",
   "version": "3.12.2"
  }
 },
 "nbformat": 4,
 "nbformat_minor": 5
}
